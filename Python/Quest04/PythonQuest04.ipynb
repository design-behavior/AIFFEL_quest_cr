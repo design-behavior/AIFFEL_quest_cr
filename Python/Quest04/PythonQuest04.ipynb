{
  "nbformat": 4,
  "nbformat_minor": 0,
  "metadata": {
    "colab": {
      "provenance": [],
      "authorship_tag": "ABX9TyNIXWp0pA/I4qKvKNXimK+9",
      "include_colab_link": true
    },
    "kernelspec": {
      "name": "python3",
      "display_name": "Python 3"
    },
    "language_info": {
      "name": "python"
    }
  },
  "cells": [
    {
      "cell_type": "markdown",
      "metadata": {
        "id": "view-in-github",
        "colab_type": "text"
      },
      "source": [
        "<a href=\"https://colab.research.google.com/github/design-behavior/AIFFEL_quest_cr/blob/main/Python/Quest04/PythonQuest04.ipynb\" target=\"_parent\"><img src=\"https://colab.research.google.com/assets/colab-badge.svg\" alt=\"Open In Colab\"/></a>"
      ]
    },
    {
      "cell_type": "markdown",
      "source": [],
      "metadata": {
        "id": "4iIUyoT_AJec"
      }
    },
    {
      "cell_type": "code",
      "source": [
        "# 12시까지 이혜승님과 진행\n",
        "\n",
        "import math as m\n",
        "\n",
        "try:\n",
        "  restart = False\n",
        "  while True:\n",
        "    num1 = int(input(\"정수를 입력하세요.\"))\n",
        "    cal = input(\"연산자 + - * / ** 중 1개를 입력하세요.\")\n",
        "    num2 = int(input(\"정수를 입력하세요.\"))\n",
        "    # punc_list = ['+','-','*','/','**']\n",
        "    msg = print(\"연산자를 다시 선택해 주세요.\")\n",
        "\n",
        "    def calculator(x,y: int):\n",
        "        #x와 y의 계산식을 담은 함수\n",
        "\n",
        "        if cal == punc_list[0]:\n",
        "          # print(f\"더하기 결과는:\")\n",
        "          return x + y\n",
        "        elif cal == punc_list[1]:\n",
        "          # print(f\"빼기 결과는:\")\n",
        "          return x - y\n",
        "        elif cal == punc_list[2]:\n",
        "          # print(f\"곱하기 결과는:\")\n",
        "          return x * y\n",
        "        elif cal == punc_list[3]:\n",
        "          # print(f\"나누기 결과는:\") # 연산자로 인해 실수로 반환됨\n",
        "          return x / y\n",
        "        elif cal == punc_list[4]:\n",
        "          # print(f\"제곱의 결과는:\")\n",
        "          return x ** y\n",
        "        else:\n",
        "          return msg\n",
        "        return\n",
        "\n",
        "    result = calculator(num1,num2)\n",
        "    print(result)\n",
        "    next = input(\"다시 계산하시겠어요? 종료를 원하시면 yes를 입력하세요.\")\n",
        "    if next == \"yes\":\n",
        "       print(\"계산기를 종료합니다.\")\n",
        "       break\n",
        "\n",
        "\n",
        "except ZeroDivisionError:\n",
        "  print(\"0으로는 나눌 수 없습니다.\")\n",
        "\n",
        "except ValueError as e:\n",
        "  print(\"잘못된 입력입니다.정수를 입력해주세요\", e)\n",
        "  # if type(num1,num2) == int:\n",
        "  #    restart = True\n",
        "  # type(num1,num2) != int:\n",
        "  #    restart = False\n",
        "\n",
        "except Exception as e:\n",
        "  print(\"예외가 발생했습니다.\", e)\n",
        "\n",
        "finally:\n",
        "  print(\"계산 끝!\")"
      ],
      "metadata": {
        "id": "mT0RQoUxAKgt"
      },
      "execution_count": null,
      "outputs": []
    },
    {
      "cell_type": "code",
      "source": [
        "# 12시 이후 혼자 진행\n",
        "\n",
        "import math as m\n",
        "\n",
        "try:\n",
        "    while True:\n",
        "        # 정수 입력 반복 (정수입력 반복을 while로 추가 작성함)\n",
        "        while True:\n",
        "            try:\n",
        "                num1 = int(input(\"정수를 입력하세요: \"))\n",
        "                break\n",
        "            except ValueError:\n",
        "                print(\"잘못된 입력입니다. 정수를 입력해주세요.\")\n",
        "\n",
        "        cal = input(\"연산자 (+, -, *, /, **) 중 1개를 입력하세요: \") # 연산자 반복입력은 구현하지 못함\n",
        "\n",
        "        # 정수 입력 반복 (정수입력 반복을 while로 추가 작성함)\n",
        "        while True:\n",
        "            try:\n",
        "                num2 = int(input(\"정수를 입력하세요: \"))\n",
        "                break\n",
        "            except ValueError:\n",
        "                print(\"잘못된 입력입니다. 정수를 입력해주세요.\")\n",
        "\n",
        "        # 유효한 연산자인지 확인\n",
        "        punc_list = ['+', '-', '*', '/', '**']\n",
        "        if cal not in punc_list:\n",
        "            print(\"연산자를 다시 선택해 주세요.\")\n",
        "            continue\n",
        "\n",
        "        def calculator(x, y): # return을 쓰지 않고 print만 썼더니 계속 [NONE]이 출력되었는데, return으로 수정하여 해결함\n",
        "            if cal == '+':\n",
        "                return x + y\n",
        "            elif cal == '-':\n",
        "                return x - y\n",
        "            elif cal == '*':\n",
        "                return x * y\n",
        "            elif cal == '/':\n",
        "                if y == 0:\n",
        "                    return \"0으로 나눌 수 없습니다.\"\n",
        "                return x / y\n",
        "            elif cal == '**':\n",
        "                return x ** y\n",
        "\n",
        "        result = calculator(num1, num2)\n",
        "        print(f\"계산 결과: {result}\")\n",
        "\n",
        "        next_action = input(\"다시 계산하시겠어요? 종료를 원하시면 'yes'를 입력하세요: \")\n",
        "        if next_action.lower() == \"yes\":\n",
        "            print(\"계산기를 종료합니다.\")\n",
        "            break\n",
        "\n",
        "except Exception as e:\n",
        "    print(\"예외가 발생했습니다.\", e)\n",
        "\n",
        "finally:\n",
        "    print(\"계산 끝!\")"
      ],
      "metadata": {
        "colab": {
          "base_uri": "https://localhost:8080/"
        },
        "id": "ZEt-bUtLARzs",
        "outputId": "2f8b2abb-ee61-49c2-d756-a8063f8c7fc2"
      },
      "execution_count": 1,
      "outputs": [
        {
          "output_type": "stream",
          "name": "stdout",
          "text": [
            "정수를 입력하세요: 3\n",
            "연산자 (+, -, *, /, **) 중 1개를 입력하세요: *\n",
            "정수를 입력하세요: 2\n",
            "계산 결과: 6\n",
            "다시 계산하시겠어요? 종료를 원하시면 'yes'를 입력하세요: ㅓ\n",
            "정수를 입력하세요: ㅅ\n",
            "잘못된 입력입니다. 정수를 입력해주세요.\n",
            "정수를 입력하세요: 5\n",
            "연산자 (+, -, *, /, **) 중 1개를 입력하세요: /\n",
            "정수를 입력하세요: 0\n",
            "계산 결과: 0으로 나눌 수 없습니다.\n",
            "다시 계산하시겠어요? 종료를 원하시면 'yes'를 입력하세요: yes\n",
            "계산기를 종료합니다.\n",
            "계산 끝!\n"
          ]
        }
      ]
    }
  ]
}