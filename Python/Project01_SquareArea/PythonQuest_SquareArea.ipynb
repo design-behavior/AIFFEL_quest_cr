{
  "nbformat": 4,
  "nbformat_minor": 0,
  "metadata": {
    "colab": {
      "provenance": [],
      "authorship_tag": "ABX9TyMUN9pvlnxeeLFsB0upiCTe",
      "include_colab_link": true
    },
    "kernelspec": {
      "name": "python3",
      "display_name": "Python 3"
    },
    "language_info": {
      "name": "python"
    }
  },
  "cells": [
    {
      "cell_type": "markdown",
      "metadata": {
        "id": "view-in-github",
        "colab_type": "text"
      },
      "source": [
        "<a href=\"https://colab.research.google.com/github/design-behavior/AIFFEL_quest_cr/blob/main/Python/Project01_SquareArea/PythonQuest_SquareArea.ipynb\" target=\"_parent\"><img src=\"https://colab.research.google.com/assets/colab-badge.svg\" alt=\"Open In Colab\"/></a>"
      ]
    },
    {
      "cell_type": "code",
      "execution_count": 20,
      "metadata": {
        "colab": {
          "base_uri": "https://localhost:8080/"
        },
        "id": "Vka_5YkDDj17",
        "outputId": "4c0ec0cd-43fc-41e1-bc74-cb0add0daa9b"
      },
      "outputs": [
        {
          "output_type": "stream",
          "name": "stdout",
          "text": [
            "넓이를 구하고 싶은 사각형의 숫자를 써주세요.\n",
            " 1.직사각형 2.평행사변형 3.사다리꼴 \n",
            " >>>6\n",
            "1, 2, 3 중 하나를 입력해 주세요.\n",
            "넓이를 구하고 싶은 사각형의 숫자를 써주세요.\n",
            " 1.직사각형 2.평행사변형 3.사다리꼴 \n",
            " >>>2\n",
            "평행사변형 함수는 par()입니다.\n",
            "평행사변형의 밑변, 높이 길이를 입력하세요. 예시 : 밑변,높이\n",
            " >>>4, 5, 6\n",
            "올바른 형식으로 입력해주세요. 예시 : 5,3\n",
            "평행사변형의 밑변, 높이 길이를 입력하세요. 예시 : 밑변,높이\n",
            " >>>3,4,5\n",
            "올바른 형식으로 입력해주세요. 예시 : 5,3\n",
            "평행사변형의 밑변, 높이 길이를 입력하세요. 예시 : 밑변,높이\n",
            " >>>5,6,7\n",
            "올바른 형식으로 입력해주세요. 예시 : 5,3\n",
            "평행사변형의 밑변, 높이 길이를 입력하세요. 예시 : 밑변,높이\n",
            " >>>2,3\n",
            "평행사변형의 넓이는 : 6\n"
          ]
        }
      ],
      "source": [
        "class Square:\n",
        "    def __init__(self):  # 생성자__init__의 매개변수의 첫번째는 self여야 합니다.\n",
        "        while True:\n",
        "            try:\n",
        "                self.square = int(input('넓이를 구하고 싶은 사각형의 숫자를 써주세요.\\n 1.직사각형 2.평행사변형 3.사다리꼴 \\n >>>'))  # 입력값을 int로 묶어야 합니다.\n",
        "                if self.square in [1,2,3]:\n",
        "                    break\n",
        "                else:\n",
        "                    print(\"1, 2, 3 중 하나를 입력해 주세요.\") # 잘못된 선택에 대한 안내 메시지\n",
        "            except ValueError:\n",
        "                print(\"숫자를 입력해 주세요. 1, 2, 3 만 가능합니다.\") # 숫자가 아닌 입력에 대한 안내 메시지\n",
        "\n",
        "        if self.square == 1:\n",
        "            print('직사각형 함수는 rect()입니다.')  # 선택된 도형에 따른 안내 메시지\n",
        "            print(self.rect()) # 선택한 rect() 메서드 호출 및 결과 출력\n",
        "\n",
        "        elif self.square == 2:\n",
        "            print('평행사변형 함수는 par()입니다.')  # 선택된 도형에 따른 안내 메시지\n",
        "            print(self.par()) # 선택한 par() 메서드 호출 및 결과 출력\n",
        "\n",
        "        elif self.square == 3:\n",
        "            print('사다리꼴 함수는 trape()입니다.')  # 선택된 도형에 따른 안내 메시지\n",
        "            print(self.trape ()) # 선택한 trape() 메서드 호출 및 결과 출력\n",
        "\n",
        "        else:\n",
        "            print('1, 2, 3 중에서 다시 입력해주세요')\n",
        "\n",
        "    # 직사각형 메서드\n",
        "    def rect(self):  # 직사각형의 넓이를 구하는 메서드\n",
        "        while True: # 콤마 사이에 띄어쓰기 등 예외처리 추가\n",
        "            try:\n",
        "              width, vertical = map(int, input('직사각형의 가로, 세로 길이를 입력하세요. 예시 : 가로,세로\\n >>>').split(','))  #가로, 세로를 입력받는 코드\n",
        "              area = width * vertical # 넓이를 구하는 부분\n",
        "              result = '직사각형의 넓이는 : ' + str(area)\n",
        "              return result\n",
        "            except ValueError:\n",
        "              print(\"올바른 형식으로 입력해주세요. 예시 : 5,3\")\n",
        "\n",
        "    # 평행사변형 메서드\n",
        "    def par(self):\n",
        "        while True: # 콤마 사이에 띄어쓰기 등 예외처리 추가\n",
        "            try:\n",
        "              bottom, vertical = map(int, input('평행사변형의 밑변, 높이 길이를 입력하세요. 예시 : 밑변,높이\\n >>>').split(','))\n",
        "              area = bottom * vertical\n",
        "              result = '평행사변형의 넓이는 : ' + str(area)\n",
        "              return result\n",
        "            except ValueError:\n",
        "              print(\"올바른 형식으로 입력해주세요. 예시 : 5,3\")\n",
        "\n",
        "    # 사다리꼴 메서드\n",
        "    def trape(self):\n",
        "        while True: # 콤마 사이에 띄어쓰기 등 예외처리 추가\n",
        "            try:\n",
        "              top, bottom, vertical =  map(int, input('사다리꼴의 윗변, 밑변, 높이 길이를 입력하세요. 예시 : 윗볕,밑변,높이\\n >>>').split(','))\n",
        "              area = (top + bottom ) * vertical / 2\n",
        "              result = '사다리꼴의 넓이는 : ' + str(area)\n",
        "              return result\n",
        "            except ValueError:\n",
        "              print(\"올바른 형식으로 입력해주세요. 예시 : 5,3,4\")\n",
        "\n",
        "a = Square() # a.rect, a.par, a.trap 을 다 썼더니, 선택하지 않은 도형도 실행되는 오류 발생 > 삭제하여 해결"
      ]
    },
    {
      "cell_type": "markdown",
      "source": [
        "##회고\n",
        "- LLM 순서대로 따라한다고 했지만, 선택한 도형이 아닌, 무조건 직사각형/평생사변형/사다리꼴 순서대로 출력이 되었고, 마지막 도형만 계산이 되었음\n",
        "> 하단에 기입했던 \"a.rect, a.par, a.trap 을 지워서 해결함\n",
        "\n",
        "- 이후에 해 보고 싶은 것은, 사용자에게 추가적으로 도형 계산을 하겠냐는 의사를 물어 보는 반복문을 추가해 보고 싶음"
      ],
      "metadata": {
        "id": "dhMXpxq-OxLO"
      }
    }
  ]
}