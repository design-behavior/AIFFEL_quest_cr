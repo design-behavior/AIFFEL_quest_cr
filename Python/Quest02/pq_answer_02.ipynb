{
  "nbformat": 4,
  "nbformat_minor": 0,
  "metadata": {
    "colab": {
      "provenance": [],
      "include_colab_link": true
    },
    "kernelspec": {
      "name": "python3",
      "display_name": "Python 3"
    },
    "language_info": {
      "name": "python"
    }
  },
  "cells": [
    {
      "cell_type": "markdown",
      "metadata": {
        "id": "view-in-github",
        "colab_type": "text"
      },
      "source": [
        "<a href=\"https://colab.research.google.com/github/design-behavior/AIFFEL_quest_cr/blob/main/Python/Quest02/pq_answer_02.ipynb\" target=\"_parent\"><img src=\"https://colab.research.google.com/assets/colab-badge.svg\" alt=\"Open In Colab\"/></a>"
      ]
    },
    {
      "cell_type": "code",
      "source": [
        "from google.colab import drive\n",
        "drive.mount('/content/drive')"
      ],
      "metadata": {
        "id": "aLCyREVq-H-T"
      },
      "execution_count": null,
      "outputs": []
    },
    {
      "cell_type": "markdown",
      "source": [
        "Vocabulary란\n",
        "단어가 특정 정수와 매칭되어 있는 딕셔너리 형태의 단어장\n",
        "퀘스트: 문장을 입력받아서 정수로 리턴해주는 함수를 만들자!\n",
        "\n",
        "조건\n",
        "1. 텍스트 전처리를 수행한다.\n",
        "- Avengers.txt 파일을 불러온다.\n",
        "# newfile2.py\n",
        "f = open(\"C:/doit/새파일.txt\", 'w')\n",
        "f.close()\n",
        "# AIFFEL_quest_cr/Python/Quest02\n",
        "# f = open(\"Avengers.txt\", 'w')\n",
        "\n",
        "- 모든 문자는 소문자로 변환한다.\n",
        "# .lower()을 이용하여 입력받은 문장을 소문자로 만든다.\n",
        "- 모든 기호를 제거한다.\n",
        "#방법 1) 컴프리헨션 이용해서 곻백 삭제 후 리스트로 만들기 :\n",
        "/ ([c for c in text if c.strip() !=  ''])\n",
        "#방법 2) for문, replace 이용해서 대체하면서 삭제\n",
        "#for c in string.punctuation:\n",
        "#        text = text.replace(c, \"\").\n",
        "\n",
        "- 단어 단위로 분리한다.\n",
        "# .split()을 이용하여 띄워쓰기 단위로 자른다.\n",
        "\n",
        "결과:\n",
        "\"I am hungry..very much...\" -> [ 'i', 'am', 'hungry', 'very', 'much']\n",
        "\n",
        "2. 각 단어 별 빈도수를 딕셔너리 형태로 저장한다.\n",
        "3. 딕셔너리를 빈도수순으로 내림차순 정렬하고, 정렬 순서대로 정수 인덱스를 부여한다.\n",
        "4. 텍스트를 input()으로 입력받아서 정수를 return하는 함수를 만든다.\n"
      ],
      "metadata": {
        "id": "7tsJT8Ip0ASw"
      }
    },
    {
      "cell_type": "code",
      "execution_count": 14,
      "metadata": {
        "id": "vLDj_qbSzBCH",
        "colab": {
          "base_uri": "https://localhost:8080/"
        },
        "outputId": "aceb166d-7683-429b-f035-9d1cb90d065b"
      },
      "outputs": [
        {
          "output_type": "stream",
          "name": "stdout",
          "text": [
            "Drive already mounted at /content/drive; to attempt to forcibly remount, call drive.mount(\"/content/drive\", force_remount=True).\n",
            "\n",
            "아무거나 입력하세요.\"WOW!! ThIs mOvIe...    was @@aMAZING@@!!     I couldn't BELIEVE how **good** the actors were.  The plot was    so~~ thrilling.\"\n",
            "['wow', 'this', 'movie', 'was', 'amazing', 'i', 'couldnt', 'believe', 'how', 'good', 'the', 'actors', 'were', 'the', 'plot', 'was', 'so', 'thrilling']\n",
            "{'wow': 1, 'this': 1, 'movie': 1, 'was': 2, 'amazing': 1, 'i': 1, 'couldnt': 1, 'believe': 1, 'how': 1, 'good': 1, 'the': 2, 'actors': 1, 'were': 1, 'plot': 1, 'so': 1, 'thrilling': 1}\n",
            "{'was': 2, 'the': 2, 'wow': 1, 'this': 1, 'movie': 1, 'amazing': 1, 'i': 1, 'couldnt': 1, 'believe': 1, 'how': 1, 'good': 1, 'actors': 1, 'were': 1, 'plot': 1, 'so': 1, 'thrilling': 1}\n",
            "{'was': 0, 'the': 1, 'wow': 2, 'this': 3, 'movie': 4, 'amazing': 5, 'i': 6, 'couldnt': 7, 'believe': 8, 'how': 9, 'good': 10, 'actors': 11, 'were': 12, 'plot': 13, 'so': 14, 'thrilling': 15}\n",
            "['was', 'the', 'wow', 'this', 'movie', 'amazing', 'i', 'couldnt', 'believe', 'how', 'good', 'actors', 'were', 'plot', 'so', 'thrilling']\n"
          ]
        }
      ],
      "source": [
        "from google.colab import drive\n",
        "drive.mount('/content/drive')\n",
        "\n",
        "# 파일 불러오기는 여러번(30분 동안) 시도했으나 성공하지 못함\n",
        "f = open(\"/content/drive/MyDrive/Colab Notebooks/pq_answer/Avengers.txt\", 'r')\n",
        "data = f.read()\n",
        "print(data)\n",
        "f.close()\n",
        "\n",
        "import string\n",
        "\n",
        "# 입력을 받는다.\n",
        "text = input(\"아무거나 입력하세요.\")\n",
        "\n",
        "# text.lower().replace(c, \"\")를 이용하여 소문자로 정리하고 띄워쓰기 단위로 자른다.\n",
        "for c in string.punctuation:\n",
        "  text = text.lower().replace(c, \"\")\n",
        "\n",
        "# .split()을 이용하여 띄워쓰기 단위로 자른다.\n",
        "split_text = text.split()\n",
        "print(split_text)\n",
        "\n",
        "# for 문을 이용하여 비어 있는 딕셔내리에 단어와 단어수를 key:vaule를 넣는다.\n",
        "word_counts = {}\n",
        "\n",
        "for word in split_text:\n",
        "  if word in word_counts:\n",
        "   word_counts[word] += 1\n",
        "  else:\n",
        "   word_counts[word] = 1\n",
        "\n",
        "print(word_counts)\n",
        "\n",
        "# dic, sorted를 이용하여 내림차순으로 정리한다.\n",
        "sorted_dict = dict(sorted(word_counts.items(), key= lambda item:item[1], reverse=True))\n",
        "print(sorted_dict)\n",
        "\n",
        "# 정수 인덱스 부여\n",
        "indexed_dict = {key: index for index, (key, _) in enumerate(sorted(word_counts.items(), key=lambda item: item[1], reverse=True))}\n",
        "print(indexed_dict)\n",
        "\n",
        "# 리스트로 정리\n",
        "key_list = list(indexed_dict.keys())\n",
        "print(key_list)\n",
        "\n"
      ]
    }
  ]
}