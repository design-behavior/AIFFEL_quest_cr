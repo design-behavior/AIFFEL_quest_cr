{
  "cells": [
    {
      "cell_type": "markdown",
      "metadata": {
        "id": "view-in-github",
        "colab_type": "text"
      },
      "source": [
        "<a href=\"https://colab.research.google.com/github/design-behavior/AIFFEL_quest_cr/blob/main/Python/Quest01/pq_answer.ipynb\" target=\"_parent\"><img src=\"https://colab.research.google.com/assets/colab-badge.svg\" alt=\"Open In Colab\"/></a>"
      ]
    },
    {
      "cell_type": "markdown",
      "metadata": {
        "id": "97Eol4kLfvLq"
      },
      "source": [
        "1. 단어 입력 받음\n",
        "2. 입력 받은 단어를 뒤집어서 출력\n",
        "3. 입력 받은 단어가 회문인지 아닌지 확인하여 출력  \n",
        "\n",
        "출력 예시\n",
        "===\n",
        "입력값 :\n",
        "우성우\n",
        "\n",
        "출력값 :  \n",
        "뒤집힌 단어는: 우성우  \n",
        "입력된 단어는 회문입니다."
      ]
    },
    {
      "cell_type": "code",
      "execution_count": 13,
      "metadata": {
        "colab": {
          "base_uri": "https://localhost:8080/"
        },
        "id": "TUIcu9DsXUcC",
        "outputId": "c0ce7c74-000a-42e7-ad9a-cb2af7e2b2d8"
      },
      "outputs": [
        {
          "output_type": "stream",
          "name": "stdout",
          "text": [
            "단어를 입력하세요.: 기러기\n",
            "뒤집힌 단어는: 기러기\n",
            "입력된 단어는 회문입니다.\n",
            "*************************\n",
            "단어를 입력하세요.: 우영우\n",
            "뒤집힌 단어는: 우영우\n",
            "입력된 단어는 회문입니다.\n",
            "*************************\n",
            "단어를 입력하세요.: 수박\n",
            "뒤집힌 단어는: 박수\n",
            "입력된 단어는 회문이 아닙니다.\n",
            "*************************\n",
            "단어를 입력하세요.: 윤순천\n",
            "뒤집힌 단어는: 천순윤\n",
            "입력된 단어는 회문이 아닙니다.\n",
            "*************************\n",
            "단어를 입력하세요.: 우산\n",
            "뒤집힌 단어는: 산우\n",
            "입력된 단어는 회문이 아닙니다.\n",
            "*************************\n",
            "다섯 번의 기회를 모두 쓰셨습니다.\n"
          ]
        }
      ],
      "source": [
        "count = 1\n",
        "while count<=5:\n",
        "    word = input ('단어를 입력하세요.: ')\n",
        "    print('뒤집힌 단어는:', word[::-1])\n",
        "    if word == word[::-1]:\n",
        "        print('입력된 단어는 회문입니다.')\n",
        "    else:\n",
        "        print('입력된 단어는 회문이 아닙니다.')\n",
        "    count=count+1\n",
        "    print('*'*25)\n",
        "print('다섯 번의 기회를 모두 쓰셨습니다.')"
      ]
    }
  ],
  "metadata": {
    "colab": {
      "provenance": [],
      "include_colab_link": true
    },
    "kernelspec": {
      "display_name": "Python 3",
      "name": "python3"
    },
    "language_info": {
      "name": "python"
    }
  },
  "nbformat": 4,
  "nbformat_minor": 0
}