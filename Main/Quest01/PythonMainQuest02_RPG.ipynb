{
  "nbformat": 4,
  "nbformat_minor": 0,
  "metadata": {
    "colab": {
      "provenance": [],
      "authorship_tag": "ABX9TyPCvrhWt5cGRwqcUF/0LCtL",
      "include_colab_link": true
    },
    "kernelspec": {
      "name": "python3",
      "display_name": "Python 3"
    },
    "language_info": {
      "name": "python"
    }
  },
  "cells": [
    {
      "cell_type": "markdown",
      "metadata": {
        "id": "view-in-github",
        "colab_type": "text"
      },
      "source": [
        "<a href=\"https://colab.research.google.com/github/design-behavior/AIFFEL_quest_cr/blob/main/Main/Quest01/PythonMainQuest02_RPG.ipynb\" target=\"_parent\"><img src=\"https://colab.research.google.com/assets/colab-badge.svg\" alt=\"Open In Colab\"/></a>"
      ]
    },
    {
      "cell_type": "code",
      "execution_count": 10,
      "metadata": {
        "id": "U5d5R-l72E8C"
      },
      "outputs": [],
      "source": [
        "import random # random 불러오기\n",
        "\n",
        "class Character:\n",
        "\n",
        "    def __init__(self, name, level, energy, attack_p, defense_p):\n",
        "        self.name = name\n",
        "        self.level = level\n",
        "        self.energy = energy\n",
        "        self.attack_p = attack_p\n",
        "        self.defense_p = defense_p\n",
        "\n",
        "    def is_alive(self):\n",
        "        return self.energy > 0 # return bool(self.energy >= 0)를 수정\n",
        "\n",
        "    def take_damage(self, damage):\n",
        "        if damage > self.defense_p:\n",
        "            damage_inflicted = damage - self.defense_p\n",
        "            self.energy -= damage_inflicted\n",
        "\n",
        "        else:\n",
        "            damage_inflicted = 0\n",
        "\n",
        "         if self.energy < 0\n",
        "            self.energy = 0\n",
        "\n",
        "        return damage_inflicted\n",
        "\n",
        "    def attack_target(self, damage):\n",
        "        damage = random.randint(1, self.attack_p)  # 데미지는 1부터 공격력 사이의 랜덤한 정수\n",
        "        return damage\n",
        "\n",
        "\n",
        "class Player(Character):\n",
        "\n",
        "    def __init__(self, name, level=1, energy=100, attack_p=25, defense_p=5, exp=0): # 경험치 속성(exp) 추가\n",
        "        super().__init__(name, level, energy, attack_p, defense_p) # class Character 불러오기, # self 속성 삭제 (super()가 자동으로 self를 전달함으로)\n",
        "        # self.level = 1 (부모 클래스와의 일관성 유지를 위해 재선언 삭제)\n",
        "        # self.energy = 100 (부모 클래스와의 일관성 유지를 위해 재선언 삭제)\n",
        "        # self.attack_p = 25 (부모 클래스와의 일관성 유지를 위해 재선언 삭제)\n",
        "        # self.defense_p = 5 (부모 클래스와의 일관성 유지를 위해 재선언 삭제)\n",
        "        self.exp = exp\n",
        "\n",
        "    def gain_experience(self, exp_points):\n",
        "        self.exp += exp_points\n",
        "        print(f\"{self.name} gained {exp_points} EXP. Total EXP: {self.exp}\")  # 경험치 증가 메시지 추가 (이 부분 조금 더 살펴보기)\n",
        "        self.level_up()\n",
        "\n",
        "    def level_up(self):\n",
        "        while self.exp >=50: # if -> while로 변경하여 여러 번 레벨 업 가능하게 수정\n",
        "            self.level += 1\n",
        "            self.attack_p += 10\n",
        "            self.defense_p += 5\n",
        "            print(f\"{self.name} leveled up to Level {self.level}! \"\n",
        "                  f\"Attack: {self.attack_p}, Defense: {self.defense_p}\")  # 레벨 업 메시지 추가 (이 부분 조금 더 살펴보기)\n",
        "\n",
        "class Monster(Character):\n",
        "\n",
        "    def __init__(self, name, level): # energy, attack_p, defense_p의 삭제하고 하단에 별도 정의\n",
        "        energy = random.randint(10, 30) * level # 부모 클래스의 메소드를 활용하여 초기화를 한번에 처리하는 것이 일관되고 효율적이라고 함\n",
        "        attack_p = random.randint(5, 20) * level # 부모 클래스의 메소드를 활용하여 초기화를 한번에 처리하는 것이 일관되고 효율적이라고 함\n",
        "        defense_p = random.randint(1, 5) * level # 부모 클래스의 메소드를 활용하여 초기화를 한번에 처리하는 것이 일관되고 효율적이라고 함\n",
        "\n",
        "        super().__init__(name, level, energy, attack_p, defense_p) # class Character 불러오기\n",
        "\n",
        "def battle(Player, Monster):\n",
        "    if Player.is_alive()\n",
        "\n",
        "\n",
        "def main():"
      ]
    },
    {
      "cell_type": "markdown",
      "source": [
        "## 회고\n",
        "\n",
        "- battle, main 함수에 어떤 기능을 넣어야 하는지, 문제 자체가 이해되지 않았음\n",
        "\n",
        "- 클래스를 구성하는데 있어, self.###과 ### 정의가 여전히 너무 어려웠고, 부모 속성을 상속 받는데 있어 주의해야 할 점(초기화 등)에 대한 이해가 많이 부족하다는 생각이 들었음"
      ],
      "metadata": {
        "id": "r7o0S2UHY6T7"
      }
    }
  ]
}