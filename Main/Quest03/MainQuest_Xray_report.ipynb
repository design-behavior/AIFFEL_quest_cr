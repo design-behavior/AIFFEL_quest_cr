{
  "nbformat": 4,
  "nbformat_minor": 0,
  "metadata": {
    "colab": {
      "provenance": [],
      "authorship_tag": "ABX9TyNtGLzgmUiiHDHeQz80wo9+",
      "include_colab_link": true
    },
    "kernelspec": {
      "name": "python3",
      "display_name": "Python 3"
    },
    "language_info": {
      "name": "python"
    }
  },
  "cells": [
    {
      "cell_type": "markdown",
      "metadata": {
        "id": "view-in-github",
        "colab_type": "text"
      },
      "source": [
        "<a href=\"https://colab.research.google.com/github/design-behavior/AIFFEL_quest_cr/blob/main/Main/Quest03/MainQuest_Xray_report.ipynb\" target=\"_parent\"><img src=\"https://colab.research.google.com/assets/colab-badge.svg\" alt=\"Open In Colab\"/></a>"
      ]
    },
    {
      "cell_type": "markdown",
      "source": [
        "### 보고서\n",
        "\n",
        "1. 개요\n",
        "- 기본 학습-테스트 설정에서 batch size 및 epoch 설정 변경, learning rate 변경, optimizer 변경을 점진적으로 적용하여 모델 학습을 비교하였다.\n",
        "- 기본 학습-테스트에서 augmentation 기법을 적용, 모델 구조의 일부 변경, ResNet 모델로 변경한 모델 학습을 추가적으로 비교하며 학습-테스트 성능을 저하/개선하는 요인이 무엇인지 검토하였다."
      ],
      "metadata": {
        "id": "fA37VhJ88xR2"
      }
    },
    {
      "cell_type": "markdown",
      "source": [
        "2. 목차\n",
        "- a. 4개의 모델 성능 비교\n",
        "- b. batch, epoch 설정에 따른, 각 3개의 모델 성능 비교\n",
        "-  b-1. augmentation 기법 적용한 모델 학습 비교\n",
        "-  b-2. 모델 구조를 일부 변경한 모델 학습 비교\n",
        "-  b-3. ResNet 모델로 변경한 모델 학습 비교\n",
        "- c. batch size, epoch, earlyStopping 적용하여 추가 개선 시도"
      ],
      "metadata": {
        "id": "tnMCxdDGPw5a"
      }
    },
    {
      "cell_type": "markdown",
      "source": [
        "3. 주석 및 의견\n",
        "##### a. 4개의 모델 성능 비교\n",
        "- *1번째 MainQuest_Xray_01_basic.ipyn*\n",
        "\n",
        " > 훈련과 검증에서는 좋은 성능을 보였지만, 테스트에서는 성능 저하가 발생함. 과적합 가능성이 있고, 재현율은 높지만 정밀도가 낮아 잘못된 긍정 예측(정상환자 오진율)이 높을 수 있음.\n",
        "\n",
        "\n",
        "- *2번째 MainQuest_Xray_02_basic+batch, epoch.ipynb*\n",
        "\n",
        "  > 훈련과 검증에서는 우수한 성능을 보였으나, 테스트에서는 다소 저하됨.\n",
        "\n",
        "  > 특히 Epoch 15에서 val_loss가 증가(0.1574), val_accuracy는 95.6%로 소폭 하락. 이는 모델이 학습 데이터에 과적합하기 시작했음을 시사.\n",
        "\n",
        "\n",
        "- *3번째 MainQuest_Xray_03_basic+batch, epoch_learning rate.ipynb*\n",
        "\n",
        "  > 훈련 데이터에서는 지속적으로 성능이 향상되었으나, 검증 데이터에서 Epoch 13 이후 성능 변동이 있는 것으로 보아 과적합 가능성이 있음.\n",
        "\n",
        "\n",
        "- *4번째 MainQuest_Xray_04_basic+batch, epoch_optimizer.ipynb*\n",
        "\n",
        "  > 훈련 및 검증에서 성능이 점진적으로 향상되었지만, 테스트에서는 성능이 극적으로 낮아짐.\n",
        "\n",
        "  > Epoch 13 이후 과적합(Overfitting) 가능성이 보임.\n",
        "\n",
        "\n",
        "- *4개의 모델 성능 비교*\n",
        "  > 4개의 모델 모두 훈련/검증 결과 보다 테스트 결과가 낮아지는 과적합 현상을 보이고 있음.\n",
        "\n",
        "  > 테스트 결과로 4개의 모델을 비교해 보면,\n",
        "  - 1번째 모델에서 batch(16>32), epoch(10>15)로 변경한 2번째 모델에서 테스트 결과가 나아졌고, 2번째 모델에서 learning rate(ADAM/0.001>0.0005)로 변경한 3번째 모델에서 테스트 결과가 더 나아졌음.\n",
        "  - 반면, 3번째 모델에서 optimizer를 (ADAM>RMSprop/learning rate=0.0005)로 변경한 4번째 모델에서는 테스트 결과가 오히려 급격히 낮아졌음.\n",
        "\n",
        "##### b. batch, epoch 설정에 따른, 각 3개의 모델 성능 비교\n",
        "##### b-1. augmentation 기법 적용한 모델 학습 비교\n",
        "- *5번째 MainQuest_Xray_05_basic+augmentation.ipynb*\n",
        " - 모델손실(Loss) : 0.4765\n",
        " - 정확도(Accuracy) : 85.6%\n",
        " - 정밀도(Precision) : 82.9%\n",
        " - 재현율(Recall) : 96.2%\n",
        "\n",
        "\n",
        "- *6번째 MainQuest_Xray_06_basic+augmentation+batch, epoch.ipynb*\n",
        " - 모델손실(Loss) : 0.9499\n",
        " - 정확도(Accuracy) : 72.2%\n",
        " - 정밀도(Precision) : 69.3%\n",
        " - 재현율(Recall) : 99.7%\n",
        "\n",
        "> BATCH_SIZE : 16 > 32, EPOCHS = 10 > 15 로 변경한 결과 성능이 낮아졌음.\n",
        "\n",
        "\n",
        "###### b-2. 모델 구조를 일부 변경한 모델 학습 비교\n",
        "- *7번째 MainQuest_Xray_07_basic+model-edited_visualizaion.ipynb*\n",
        " - 모델손실(Loss) : 0.5045\n",
        " - 정확도(Accuracy) : 80.3%\n",
        " - 정밀도(Precision) : 80.97%\n",
        " - 재현율(Recall) : 89.5%\n",
        "\n",
        "- *8번째 MainQuest_Xray_08_basic+model-edited+batch, epoch_visualizaion.ipynb\n",
        " - 모델손실(Loss) : 1.4557\n",
        " - 정확도(Accuracy) : 64.9%\n",
        " - 정밀도(Precision) : 64.0%\n",
        " - 재현율(Recall) : 100%\n",
        "\n",
        "> BATCH_SIZE : 16 > 32, EPOCHS = 10 > 15 로 변경한 결과 성능이 낮아졌음.\n",
        "\n",
        "\n",
        "###### b-3. ResNet 모델로 변경한 모델 학습 비교\n",
        "- *9번째 MainQuest_Xray_09_basic+ResNet-18-Copy_visualization.ipynb*\n",
        " - 모델손실(Loss) : 0.9244\n",
        " - 정확도(Accuracy) : 67.6%\n",
        " - 정밀도(Precision) : 65.9%\n",
        " - 재현율(Recall) : 100%\n",
        "\n",
        "- *10번째 MainQuest_Xray_10_basic+ResNet-18-Copy+batch, epoch_visualization.ipynb*\n",
        " - 모델손실(Loss) : 1.2886\n",
        " - 정확도(Accuracy) : 49.3%\n",
        " - 정밀도(Precision) : 96.2%\n",
        " - 재현율(Recall) : 19.7%\n",
        "\n",
        "> BATCH_SIZE : 16 > 8(메모리 에러 이슈로 32로 올렸다가 8로 낮춤), EPOCHS = 10 > 15 로 변경한 결과 성능이 낮아졌음.\n",
        "\n",
        "##### c. batch size, epoch, earlyStopping 적용하여 추가 개선 시도\n",
        "- *3번째 MainQuest_Xray_03_basic+batch, epoch_learning rate*\n",
        "- *3-2번째 MainQuest_Xray_03-2_basic_learning rate*\n",
        "- *3-3번째 MainQuest_Xray_03-3_basic_learning rate_EarlyStopping*\n",
        "\n",
        "> 다른 모델의 테스트 결과를 참조하여, 3번째 모델에서 batch_size(32>16), epochs(15>10)에서 변경해 보았으나, 3-2번째 테스트 결과는 오히려 성능이 낮아졌음.\n",
        "\n",
        "> 과적합 해결을 위해 3-3번재 EarlyStopping을 추가로 시도하였으나 성능은 오히려 더욱 낮아졌음"
      ],
      "metadata": {
        "id": "B6hmRdDnnEQ9"
      }
    },
    {
      "cell_type": "markdown",
      "source": [
        "4. summary\n",
        "- 대부분 훈련/검증 결과보다 테스트 결과에서 성능이 낮아지는 과적합 현상 나타남\n",
        "- 대부분의 테스트 결과 중 batch_size=32 보다 batch_size=32, epochs=15 보다 epochs=10에서 더 나은 결과를 보임. (2번째, 10번째 제외)\n",
        "- 3번째 모델(batch_size=32, epochs=15, ADAM(learning_rate=0.0005))에서 batch_size=16, epochs=10으로 변경 한 3-2번째 테스트 결과는 오히려 성능이 낮아졌고, 과적합 해결을 위해 EarlyStopping을 추가로 시도하였으나 성능은 더 낮아졌음."
      ],
      "metadata": {
        "id": "OwPKEKR7P6Es"
      }
    },
    {
      "cell_type": "markdown",
      "source": [
        "5. 회고\n",
        "- (모델을 처음부터 만드는 것은 불가능할 것 같지만) 여러 모델 테스트를 하며 설정변경을 반복해 보니, 각 단계에서의 기능 및 검증/훈련/테스트 결과에 대한 이해도가 높아진 것 같음.\n",
        "- LMS 연결이 원활했으면 좋겠음."
      ],
      "metadata": {
        "id": "4oDBdfWyP9Gb"
      }
    }
  ]
}
