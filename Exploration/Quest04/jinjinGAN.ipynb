{
 "cells": [
  {
   "cell_type": "code",
   "execution_count": 6,
   "id": "d5d5da82",
   "metadata": {},
   "outputs": [
    {
     "data": {
      "application/vnd.jupyter.widget-view+json": {
       "model_id": "3bf05a5f38d3432db9d1341478a2a926",
       "version_major": 2,
       "version_minor": 0
      },
      "text/plain": [
       "HTML(value='<h2> 진진GAN 이미지 판별 게임</h2><p>real vs fake 이미지 맞히기!</p>')"
      ]
     },
     "metadata": {},
     "output_type": "display_data"
    },
    {
     "data": {
      "application/vnd.jupyter.widget-view+json": {
       "model_id": "1da7bb8b2a6742ec8c1325abbfe8012d",
       "version_major": 2,
       "version_minor": 0
      },
      "text/plain": [
       "Button(button_style='success', description='게임 시작', style=ButtonStyle())"
      ]
     },
     "metadata": {},
     "output_type": "display_data"
    }
   ],
   "source": [
    "import tensorflow as tf\n",
    "import numpy as np\n",
    "import matplotlib.pyplot as plt\n",
    "import random\n",
    "import ipywidgets as widgets\n",
    "from IPython.display import display, clear_output\n",
    "\n",
    "# 상태 변수\n",
    "user_answers = []\n",
    "correct_answers = []\n",
    "labeled_images = []\n",
    "game_running = False\n",
    "\n",
    "# CIFAR-10 데이터 로드\n",
    "(train_x, _), (_, _) = tf.keras.datasets.cifar10.load_data()\n",
    "train_x = (train_x.astype('float32') - 127.5) / 127.5\n",
    "\n",
    "# GAN Generator 불러오기\n",
    "generator = tf.keras.models.load_model('generator.h5')\n",
    "\n",
    "# 이미지 준비 함수\n",
    "def prepare_game():\n",
    "    global labeled_images, user_answers, correct_answers, game_running\n",
    "    user_answers = []\n",
    "    correct_answers = []\n",
    "    game_running = True\n",
    "\n",
    "    noise = tf.random.normal([10, 100])\n",
    "    fake_images = generator(noise, training=False)\n",
    "    real_images = train_x[np.random.choice(len(train_x), 10, replace=False)]\n",
    "    labeled_images = [(img, 'real') for img in real_images] + [(img, 'fake') for img in fake_images]\n",
    "    random.shuffle(labeled_images)\n",
    "\n",
    "# 게임 시작 화면\n",
    "def start_screen():\n",
    "    global game_running\n",
    "    game_running = False\n",
    "    clear_output(wait=True)\n",
    "\n",
    "    st_title = widgets.HTML(\"<h2> 진진GAN 이미지 판별 게임</h2><p>real vs fake 이미지 맞히기!</p>\")\n",
    "    btn_start = widgets.Button(description=\"게임 시작\", button_style='success')\n",
    "\n",
    "    def on_start(b):\n",
    "        prepare_game()\n",
    "        show_image(0)\n",
    "\n",
    "    btn_start.on_click(on_start)\n",
    "    display(st_title, btn_start)\n",
    "\n",
    "# 이미지 보여주기\n",
    "def show_image(index):\n",
    "    clear_output(wait=True)\n",
    "    img, label = labeled_images[index]\n",
    "    correct_answers.append(label)\n",
    "\n",
    "    plt.imshow((img + 1) / 2)\n",
    "    plt.title(f\"이미지 {index + 1}\")\n",
    "    plt.axis('off')\n",
    "    plt.show()\n",
    "\n",
    "    def on_choice(btn):\n",
    "        user_answers.append(btn.description)\n",
    "        if index + 1 < 7:\n",
    "            show_image(index + 1)\n",
    "        else:\n",
    "            show_result()\n",
    "\n",
    "    def on_cancel(b):\n",
    "        clear_output(wait=True)\n",
    "        start_screen()\n",
    "\n",
    "    btn_real = widgets.Button(description=\"real\", button_style='success')\n",
    "    btn_fake = widgets.Button(description=\"fake\", button_style='danger')\n",
    "    btn_real.on_click(on_choice)\n",
    "    btn_fake.on_click(on_choice)\n",
    "\n",
    "    btn_cancel = widgets.Button(description=\"게임 취소\", button_style='warning')\n",
    "    btn_cancel.on_click(on_cancel)\n",
    "\n",
    "    display(widgets.HBox([btn_real, btn_fake]), btn_cancel)\n",
    "\n",
    "# 결과 보기 + 다시 시작 버튼\n",
    "def show_result():\n",
    "    global game_running\n",
    "    game_running = False\n",
    "    clear_output(wait=True)\n",
    "\n",
    "    score = sum([u == c for u, c in zip(user_answers, correct_answers)])\n",
    "    for i, (u, c) in enumerate(zip(user_answers, correct_answers)):\n",
    "        result = \"✅\" if u == c else f\"❌ (정답: {c})\"\n",
    "        print(f\"이미지 {i+1}: 선택={u} → {result}\")\n",
    "    print(f\"\\n🎯 최종 점수: {score} / 7   정확도: {score / 7 * 100:.1f}%\")\n",
    "\n",
    "    btn_restart = widgets.Button(description=\"게임 시작\", button_style='primary')\n",
    "    btn_restart.on_click(lambda b: start_screen())\n",
    "    display(btn_restart)\n",
    "\n",
    "# 시작\n",
    "start_screen()\n"
   ]
  }
 ],
 "metadata": {
  "kernelspec": {
   "display_name": "Python 3 (ipykernel)",
   "language": "python",
   "name": "python3"
  },
  "language_info": {
   "codemirror_mode": {
    "name": "ipython",
    "version": 3
   },
   "file_extension": ".py",
   "mimetype": "text/x-python",
   "name": "python",
   "nbconvert_exporter": "python",
   "pygments_lexer": "ipython3",
   "version": "3.9.7"
  }
 },
 "nbformat": 4,
 "nbformat_minor": 5
}
